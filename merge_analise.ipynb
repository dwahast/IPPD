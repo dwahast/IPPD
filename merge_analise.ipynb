{
 "cells": [
  {
   "cell_type": "code",
   "execution_count": 50,
   "metadata": {},
   "outputs": [],
   "source": []
  },
  {
   "cell_type": "code",
   "execution_count": 231,
   "metadata": {},
   "outputs": [],
   "source": [
    "import sys\n",
    "import pandas as pd\n",
    "\n",
    "file = open('out_mpi_merge.txt')\n",
    "df = pd.DataFrame()\n",
    "dict_temp = {}\n",
    "for line in file:\n",
    "    if ':' in line:\n",
    "        if 'Processo:' in line:\n",
    "            key = line.replace(':','_')\n",
    "        if 'Processo'in key:\n",
    "            value = line.split(':')[1].split('\\n')[0]\n",
    "            dict_temp[key] = value\n",
    "        else:\n",
    "            key = line.split(':')[0]\n",
    "            value = line.split(':')[1].replace('\\n','')\n",
    "            dict_temp[key] = value\n",
    "            \n",
    "    elif 'm' in line:\n",
    "        key = line.split('\\t')[0]\n",
    "        value = line.split('m')[1].split('s')[0].replace(',','.')\n",
    "        dict_temp[key] = float(value)\n",
    "        if \"sys\" in line:\n",
    "            df = df.append(dict_temp, ignore_index=True)\n",
    "            dict_temp = dict.fromkeys(dict_temp, 0)\n",
    "\n",
    "df = df.drop(columns = ['world_rank','sys','user'])\n",
    "col = df['real']\n",
    "df.drop(labels=['real'], axis=1,inplace = True)\n",
    "df.insert(0, 'real', col)\n",
    "col = df['Tamanho do Chunk']\n",
    "df.drop(labels=['Tamanho do Chunk'], axis=1,inplace = True)\n",
    "df.insert(0, 'Tamanho do Chunk', col)\n",
    "col = df['Tamanho do vetor']\n",
    "df.drop(labels=['Tamanho do vetor'], axis=1,inplace = True)\n",
    "df.insert(0, 'Tamanho do vetor', col)\n",
    "col = df['world size']\n",
    "df.drop(labels=['world size'], axis=1,inplace = True)\n",
    "df.insert(0, 'world size', col)\n",
    "df['world size'] = df['world size'].astype(int)"
   ]
  },
  {
   "cell_type": "code",
   "execution_count": null,
   "metadata": {},
   "outputs": [],
   "source": []
  },
  {
   "cell_type": "code",
   "execution_count": 179,
   "metadata": {},
   "outputs": [
    {
     "data": {
      "text/plain": [
       "Index(['world size', 'Tamanho do vetor', 'Tamanho do Chunk', 'real',\n",
       "       'Processo_0\\n', 'Processo_1\\n', 'Processo_2\\n', 'Processo_3\\n'],\n",
       "      dtype='object')"
      ]
     },
     "execution_count": 179,
     "metadata": {},
     "output_type": "execute_result"
    }
   ],
   "source": [
    "df.columns"
   ]
  },
  {
   "cell_type": "code",
   "execution_count": null,
   "metadata": {},
   "outputs": [],
   "source": []
  },
  {
   "cell_type": "code",
   "execution_count": 286,
   "metadata": {},
   "outputs": [
    {
     "data": {
      "image/png": "[encoded data removed]",
      "text/plain": [
       "<Figure size 432x288 with 1 Axes>"
      ]
     },
     "metadata": {
      "needs_background": "light"
     },
     "output_type": "display_data"
    }
   ],
   "source": [
    "import numpy as np\n",
    "import matplotlib.pyplot as plt\n",
    "\n",
    "N = 4\n",
    "ind = np.arange(N)  # the x locations for the groups\n",
    "width = 0.24       # the width of the bars\n",
    "\n",
    "fig = plt.figure()\n",
    "ax = fig.add_subplot(111)\n",
    "time_w1 = df[df['world size'] == 1]['real']\n",
    "rects1 = ax.bar(ind, time_w1, width, color='blue')\n",
    "\n",
    "time_w2 = df[df['world size'] == 2]['real']\n",
    "rects2 = ax.bar(ind+width, time_w2, width, color='slateblue')\n",
    "\n",
    "time_w3 = df[df['world size'] == 3]['real']\n",
    "rects3 = ax.bar(ind+width*2, time_w3, width, color='darkviolet')\n",
    "\n",
    "time_w4 = df[df['world size'] == 4]['real']\n",
    "rects4 = ax.bar(ind+width*3, time_w4, width, color='rebeccapurple')\n",
    "\n",
    "# add some\n",
    "ax.set_ylabel('Time (s)',size = 15)\n",
    "ax.set_title('Time by thread and array size', size=15)\n",
    "ax.set_xticks(ind + width*3/2)\n",
    "ax.set_xticklabels( ('10', '100', '1000', '10000'), size = 15 )\n",
    "\n",
    "ax.legend( (rects1[0], rects2[0],rects3[0],rects4[0]), ('1', '2','3','4') )\n",
    "\n",
    "plt.show()"
   ]
  }
 ],
 "metadata": {
  "kernelspec": {
   "display_name": "Python 3",
   "language": "python",
   "name": "python3"
  },
  "language_info": {
   "codemirror_mode": {
    "name": "ipython",
    "version": 3
   },
   "file_extension": ".py",
   "mimetype": "text/x-python",
   "name": "python",
   "nbconvert_exporter": "python",
   "pygments_lexer": "ipython3",
   "version": "3.7.3"
  }
 },
 "nbformat": 4,
 "nbformat_minor": 4
}
