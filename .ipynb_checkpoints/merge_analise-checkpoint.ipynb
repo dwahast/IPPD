{
 "cells": [
  {
   "cell_type": "code",
   "execution_count": null,
   "metadata": {},
   "outputs": [],
   "source": []
  },
  {
   "cell_type": "code",
   "execution_count": 3,
   "metadata": {},
   "outputs": [
    {
     "ename": "NameError",
     "evalue": "name 'key' is not defined",
     "output_type": "error",
     "traceback": [
      "\u001b[1;31m---------------------------------------------------------------------------\u001b[0m",
      "\u001b[1;31mNameError\u001b[0m                                 Traceback (most recent call last)",
      "\u001b[1;32m<ipython-input-3-dff136ab1e0d>\u001b[0m in \u001b[0;36m<module>\u001b[1;34m\u001b[0m\n\u001b[0;32m     10\u001b[0m         \u001b[1;32mif\u001b[0m \u001b[1;34m'Processo'\u001b[0m \u001b[1;32min\u001b[0m \u001b[0mline\u001b[0m\u001b[1;33m:\u001b[0m\u001b[1;33m\u001b[0m\u001b[1;33m\u001b[0m\u001b[0m\n\u001b[0;32m     11\u001b[0m             \u001b[0mkey\u001b[0m \u001b[1;33m=\u001b[0m \u001b[0mline\u001b[0m\u001b[1;33m.\u001b[0m\u001b[0mreplace\u001b[0m\u001b[1;33m(\u001b[0m\u001b[1;34m':'\u001b[0m\u001b[1;33m,\u001b[0m\u001b[1;34m'_'\u001b[0m\u001b[1;33m)\u001b[0m\u001b[1;33m.\u001b[0m\u001b[0msplit\u001b[0m\u001b[1;33m(\u001b[0m\u001b[1;34m'\\n'\u001b[0m\u001b[1;33m)\u001b[0m\u001b[1;33m[\u001b[0m\u001b[1;36m0\u001b[0m\u001b[1;33m]\u001b[0m\u001b[1;33m\u001b[0m\u001b[1;33m\u001b[0m\u001b[0m\n\u001b[1;32m---> 12\u001b[1;33m         \u001b[1;32mif\u001b[0m \u001b[1;34m'Processo'\u001b[0m \u001b[1;32min\u001b[0m \u001b[0mkey\u001b[0m\u001b[1;33m:\u001b[0m\u001b[1;33m\u001b[0m\u001b[1;33m\u001b[0m\u001b[0m\n\u001b[0m\u001b[0;32m     13\u001b[0m             \u001b[0mvalue\u001b[0m \u001b[1;33m=\u001b[0m \u001b[0mline\u001b[0m\u001b[1;33m.\u001b[0m\u001b[0msplit\u001b[0m\u001b[1;33m(\u001b[0m\u001b[1;34m':'\u001b[0m\u001b[1;33m)\u001b[0m\u001b[1;33m[\u001b[0m\u001b[1;36m1\u001b[0m\u001b[1;33m]\u001b[0m\u001b[1;33m.\u001b[0m\u001b[0msplit\u001b[0m\u001b[1;33m(\u001b[0m\u001b[1;34m'\\n'\u001b[0m\u001b[1;33m)\u001b[0m\u001b[1;33m[\u001b[0m\u001b[1;36m0\u001b[0m\u001b[1;33m]\u001b[0m\u001b[1;33m\u001b[0m\u001b[1;33m\u001b[0m\u001b[0m\n\u001b[0;32m     14\u001b[0m             \u001b[0mdict_temp\u001b[0m\u001b[1;33m[\u001b[0m\u001b[0mkey\u001b[0m\u001b[1;33m]\u001b[0m \u001b[1;33m=\u001b[0m \u001b[0mvalue\u001b[0m\u001b[1;33m\u001b[0m\u001b[1;33m\u001b[0m\u001b[0m\n",
      "\u001b[1;31mNameError\u001b[0m: name 'key' is not defined"
     ]
    }
   ],
   "source": [
    "import sys\n",
    "import pandas as pd\n",
    "\n",
    "file = open('out_mpi_merge.txt')\n",
    "df = pd.DataFrame()\n",
    "dict_temp = {}\n",
    "\n",
    "for line in file:\n",
    "    if ':' in line:\n",
    "        if 'Processo:' in line:\n",
    "            key = line.replace(':','_').split('\\n')[0]\n",
    "        if 'Processo' in key:\n",
    "            value = line.split(':')[1].split('\\n')[0]\n",
    "            dict_temp[key] = value\n",
    "        else:\n",
    "            key = line.split(':')[0]\n",
    "            value = line.split(':')[1].replace('\\n','')\n",
    "            dict_temp[key] = value\n",
    "            \n",
    "    elif 'm' in line:\n",
    "        key = line.split('\\t')[0]\n",
    "        value = line.split('m')[1].split('s')[0].replace(',','.')\n",
    "        dict_temp[key] = float(value)\n",
    "        if \"sys\" in line:\n",
    "            df = df.append(dict_temp, ignore_index=True)\n",
    "            dict_temp = dict.fromkeys(dict_temp, 0)\n",
    "\n",
    "df = df.drop(columns = ['world_rank','sys','user'])\n",
    "col = df['real']\n",
    "df.drop(labels=['real'], axis=1,inplace = True)\n",
    "df.insert(0, 'real', col)\n",
    "col = df['Tamanho do Chunk']\n",
    "df.drop(labels=['Tamanho do Chunk'], axis=1,inplace = True)\n",
    "df.insert(0, 'Tamanho do Chunk', col)\n",
    "col = df['Tamanho do vetor']\n",
    "df.drop(labels=['Tamanho do vetor'], axis=1,inplace = True)\n",
    "df.insert(0, 'Tamanho do vetor', col)\n",
    "col = df['world size']\n",
    "df.drop(labels=['world size'], axis=1,inplace = True)\n",
    "df.insert(0, 'world size', col)\n",
    "#df['world size'] = df['world size'].astype(int)\n",
    "df"
   ]
  },
  {
   "cell_type": "code",
   "execution_count": null,
   "metadata": {},
   "outputs": [],
   "source": []
  },
  {
   "cell_type": "code",
   "execution_count": null,
   "metadata": {},
   "outputs": [],
   "source": [
    "df.columns"
   ]
  },
  {
   "cell_type": "code",
   "execution_count": null,
   "metadata": {},
   "outputs": [],
   "source": [
    "from plotnine import *\n",
    "\n",
    "(ggplot(df, aes(x='Tamanho do vetor', y='real', fill='world size', )) +\\\n",
    "    geom_bar(position=\"dodge\", stat=\"identity\", width = 0.5) +\\\n",
    "    labs(x = \"Tempo Real ( s )\",\\\n",
    "        y = 'Tempo total (S)',\\\n",
    "        title = 'Tempo total x Tamanho do vetor x Nº Processos')\n",
    ")"
   ]
  },
  {
   "cell_type": "code",
   "execution_count": null,
   "metadata": {},
   "outputs": [],
   "source": []
  }
 ],
 "metadata": {
  "kernelspec": {
   "display_name": "Python 3",
   "language": "python",
   "name": "python3"
  },
  "language_info": {
   "codemirror_mode": {
    "name": "ipython",
    "version": 3
   },
   "file_extension": ".py",
   "mimetype": "text/x-python",
   "name": "python",
   "nbconvert_exporter": "python",
   "pygments_lexer": "ipython3",
   "version": "3.7.3"
  }
 },
 "nbformat": 4,
 "nbformat_minor": 4
}
